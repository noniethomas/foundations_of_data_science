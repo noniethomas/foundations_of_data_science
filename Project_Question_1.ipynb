{
 "cells": [
  {
   "cell_type": "markdown",
   "metadata": {},
   "source": [
    "Nancy Thomas"
   ]
  },
  {
   "cell_type": "code",
   "execution_count": 7,
   "metadata": {},
   "outputs": [],
   "source": [
    "from datascience import *\n",
    "import numpy as np\n",
    "%matplotlib inline\n",
    "import matplotlib.pyplot as plots\n",
    "plots.style.use('fivethirtyeight')"
   ]
  },
  {
   "cell_type": "markdown",
   "metadata": {},
   "source": [
    "For the first question, I am going to look at whether or not the proporiton of homicides with a non-white victim is consistent with the expected value, which is the proportion of the population that is not white. Based off of some previous knowledge, I expect to find that it is not. I will test this by running an experiment in which I generate many sample of victims, assigning them to be white or not white according to population proportions. I will then calculate a test statistic, the difference between the proportion of non-white victims in the sample and the expected value. Using this set of test statistics, I will determine the statistical significance of the true parameter. This will help me to decide if the proportion of homicides with a non-white victim is consistent with the expected value. In order to gain more qualitative information, I first split the data by state, and ran this test on ten randomly selected states. If the majority of states selected have a statistically significant p-value, I will conclude that the true proportion is not consistent with the expected proportion."
   ]
  },
  {
   "cell_type": "code",
   "execution_count": 8,
   "metadata": {},
   "outputs": [
    {
     "data": {
      "text/html": [
       "<table border=\"1\" class=\"dataframe\">\n",
       "    <thead>\n",
       "        <tr>\n",
       "            <th>State</th> <th>Crime Solved</th> <th>Victim Age</th> <th>Victim Race</th> <th>Perpetrator Age</th> <th>Perpetrator Race</th>\n",
       "        </tr>\n",
       "    </thead>\n",
       "    <tbody>\n",
       "        <tr>\n",
       "            <td>Alaska</td> <td>No          </td> <td>47        </td> <td>Native American/Alaska Native</td> <td>0              </td> <td>Unknown                      </td>\n",
       "        </tr>\n",
       "    </tbody>\n",
       "        <tr>\n",
       "            <td>Alaska</td> <td>No          </td> <td>31        </td> <td>White                        </td> <td>0              </td> <td>Unknown                      </td>\n",
       "        </tr>\n",
       "    </tbody>\n",
       "        <tr>\n",
       "            <td>Alaska</td> <td>Yes         </td> <td>55        </td> <td>White                        </td> <td>64             </td> <td>White                        </td>\n",
       "        </tr>\n",
       "    </tbody>\n",
       "        <tr>\n",
       "            <td>Alaska</td> <td>Yes         </td> <td>22        </td> <td>Black                        </td> <td>19             </td> <td>White                        </td>\n",
       "        </tr>\n",
       "    </tbody>\n",
       "        <tr>\n",
       "            <td>Alaska</td> <td>No          </td> <td>55        </td> <td>Native American/Alaska Native</td> <td>0              </td> <td>Unknown                      </td>\n",
       "        </tr>\n",
       "    </tbody>\n",
       "        <tr>\n",
       "            <td>Alaska</td> <td>Yes         </td> <td>15        </td> <td>Black                        </td> <td>24             </td> <td>Black                        </td>\n",
       "        </tr>\n",
       "    </tbody>\n",
       "        <tr>\n",
       "            <td>Alaska</td> <td>Yes         </td> <td>36        </td> <td>Black                        </td> <td>39             </td> <td>Native American/Alaska Native</td>\n",
       "        </tr>\n",
       "    </tbody>\n",
       "        <tr>\n",
       "            <td>Alaska</td> <td>Yes         </td> <td>20        </td> <td>White                        </td> <td>22             </td> <td>White                        </td>\n",
       "        </tr>\n",
       "    </tbody>\n",
       "        <tr>\n",
       "            <td>Alaska</td> <td>Yes         </td> <td>51        </td> <td>White                        </td> <td>38             </td> <td>Native American/Alaska Native</td>\n",
       "        </tr>\n",
       "    </tbody>\n",
       "        <tr>\n",
       "            <td>Alaska</td> <td>Yes         </td> <td>63        </td> <td>Asian/Pacific Islander       </td> <td>51             </td> <td>White                        </td>\n",
       "        </tr>\n",
       "    </tbody>\n",
       "</table>\n",
       "<p>... (14321 rows omitted)</p"
      ],
      "text/plain": [
       "State  | Crime Solved | Victim Age | Victim Race                   | Perpetrator Age | Perpetrator Race\n",
       "Alaska | No           | 47         | Native American/Alaska Native | 0               | Unknown\n",
       "Alaska | No           | 31         | White                         | 0               | Unknown\n",
       "Alaska | Yes          | 55         | White                         | 64              | White\n",
       "Alaska | Yes          | 22         | Black                         | 19              | White\n",
       "Alaska | No           | 55         | Native American/Alaska Native | 0               | Unknown\n",
       "Alaska | Yes          | 15         | Black                         | 24              | Black\n",
       "Alaska | Yes          | 36         | Black                         | 39              | Native American/Alaska Native\n",
       "Alaska | Yes          | 20         | White                         | 22              | White\n",
       "Alaska | Yes          | 51         | White                         | 38              | Native American/Alaska Native\n",
       "Alaska | Yes          | 63         | Asian/Pacific Islander        | 51              | White\n",
       "... (14321 rows omitted)"
      ]
     },
     "execution_count": 8,
     "metadata": {},
     "output_type": "execute_result"
    }
   ],
   "source": [
    "homicides = Table.read_table('nancy_data_set.csv')\n",
    "homicides # this is my full data set"
   ]
  },
  {
   "cell_type": "code",
   "execution_count": 18,
   "metadata": {},
   "outputs": [
    {
     "data": {
      "text/html": [
       "<table border=\"1\" class=\"dataframe\">\n",
       "    <thead>\n",
       "        <tr>\n",
       "            <th>State</th> <th>count</th>\n",
       "        </tr>\n",
       "    </thead>\n",
       "    <tbody>\n",
       "        <tr>\n",
       "            <td>South Carolina</td> <td>336  </td>\n",
       "        </tr>\n",
       "    </tbody>\n",
       "        <tr>\n",
       "            <td>North Dakota  </td> <td>15   </td>\n",
       "        </tr>\n",
       "    </tbody>\n",
       "        <tr>\n",
       "            <td>Ohio          </td> <td>455  </td>\n",
       "        </tr>\n",
       "    </tbody>\n",
       "        <tr>\n",
       "            <td>Texas         </td> <td>1324 </td>\n",
       "        </tr>\n",
       "    </tbody>\n",
       "        <tr>\n",
       "            <td>Alaska        </td> <td>48   </td>\n",
       "        </tr>\n",
       "    </tbody>\n",
       "        <tr>\n",
       "            <td>Nebraska      </td> <td>57   </td>\n",
       "        </tr>\n",
       "    </tbody>\n",
       "        <tr>\n",
       "            <td>Georgia       </td> <td>608  </td>\n",
       "        </tr>\n",
       "    </tbody>\n",
       "        <tr>\n",
       "            <td>Tennessee     </td> <td>414  </td>\n",
       "        </tr>\n",
       "    </tbody>\n",
       "        <tr>\n",
       "            <td>Maryland      </td> <td>337  </td>\n",
       "        </tr>\n",
       "    </tbody>\n",
       "        <tr>\n",
       "            <td>Kentucky      </td> <td>168  </td>\n",
       "        </tr>\n",
       "    </tbody>\n",
       "</table>"
      ],
      "text/plain": [
       "State          | count\n",
       "South Carolina | 336\n",
       "North Dakota   | 15\n",
       "Ohio           | 455\n",
       "Texas          | 1324\n",
       "Alaska         | 48\n",
       "Nebraska       | 57\n",
       "Georgia        | 608\n",
       "Tennessee      | 414\n",
       "Maryland       | 337\n",
       "Kentucky       | 168"
      ]
     },
     "execution_count": 18,
     "metadata": {},
     "output_type": "execute_result"
    }
   ],
   "source": [
    "# this cell takes a random sample of 10 states\n",
    "state = homicides.group('State') # note that this data includes Washington DC as a state (51 'states' total)\n",
    "state_sample = state.sample(10, with_replacement = False) #careful not to rerun this!!!!!\n",
    "state_sample\n",
    "# don't rerun this cell, or the ten randomly selected states will change"
   ]
  },
  {
   "cell_type": "code",
   "execution_count": 19,
   "metadata": {},
   "outputs": [
    {
     "data": {
      "text/html": [
       "<table border=\"1\" class=\"dataframe\">\n",
       "    <thead>\n",
       "        <tr>\n",
       "            <th>State</th> <th>Proporiton of Nonwhite Vicitms</th>\n",
       "        </tr>\n",
       "    </thead>\n",
       "    <tbody>\n",
       "        <tr>\n",
       "            <td>South Carolina</td> <td>0.636905                      </td>\n",
       "        </tr>\n",
       "    </tbody>\n",
       "        <tr>\n",
       "            <td>North Dakota  </td> <td>0.266667                      </td>\n",
       "        </tr>\n",
       "    </tbody>\n",
       "        <tr>\n",
       "            <td>Ohio          </td> <td>0.628571                      </td>\n",
       "        </tr>\n",
       "    </tbody>\n",
       "        <tr>\n",
       "            <td>Texas         </td> <td>0.348943                      </td>\n",
       "        </tr>\n",
       "    </tbody>\n",
       "        <tr>\n",
       "            <td>Alaska        </td> <td>0.5                           </td>\n",
       "        </tr>\n",
       "    </tbody>\n",
       "        <tr>\n",
       "            <td>Nebraska      </td> <td>0.473684                      </td>\n",
       "        </tr>\n",
       "    </tbody>\n",
       "        <tr>\n",
       "            <td>Georgia       </td> <td>0.771382                      </td>\n",
       "        </tr>\n",
       "    </tbody>\n",
       "        <tr>\n",
       "            <td>Tennessee     </td> <td>0.613527                      </td>\n",
       "        </tr>\n",
       "    </tbody>\n",
       "        <tr>\n",
       "            <td>Maryland      </td> <td>0.804154                      </td>\n",
       "        </tr>\n",
       "    </tbody>\n",
       "        <tr>\n",
       "            <td>Kentucky      </td> <td>0.339286                      </td>\n",
       "        </tr>\n",
       "    </tbody>\n",
       "</table>"
      ],
      "text/plain": [
       "State          | Proporiton of Nonwhite Vicitms\n",
       "South Carolina | 0.636905\n",
       "North Dakota   | 0.266667\n",
       "Ohio           | 0.628571\n",
       "Texas          | 0.348943\n",
       "Alaska         | 0.5\n",
       "Nebraska       | 0.473684\n",
       "Georgia        | 0.771382\n",
       "Tennessee      | 0.613527\n",
       "Maryland       | 0.804154\n",
       "Kentucky       | 0.339286"
      ]
     },
     "execution_count": 19,
     "metadata": {},
     "output_type": "execute_result"
    }
   ],
   "source": [
    "# In this cell, I find the proportion of homicides with a non-white victim in each of the selected states\n",
    "i = 0\n",
    "props = make_array()\n",
    "while i < state_sample.num_rows:\n",
    "    state_table = homicides.where('State', state_sample.column('State').item(i))\n",
    "    non_white = np.count_nonzero(state_table.column('Victim Race') != 'White')/state_table.num_rows\n",
    "    props = np.append(props, non_white)\n",
    "    i = i + 1\n",
    "proportion_table = Table().with_column('State', state_sample.column('State'),'Proporiton of Nonwhite Vicitms',np.array(props))\n",
    "proportion_table"
   ]
  },
  {
   "cell_type": "code",
   "execution_count": 26,
   "metadata": {
    "collapsed": true
   },
   "outputs": [],
   "source": [
    "# This is the data from Kaiser Family Foundation\n",
    "# The proportion of the population that is white\n",
    "south_carolina = .65\n",
    "north_dakota = .85\n",
    "ohio = 0.78\n",
    "texas = 0.43\n",
    "alaska = 0.60\n",
    "nebraska = 0.78\n",
    "georgia = 0.52\n",
    "tennessee = 0.73\n",
    "maryland = 0.53\n",
    "kentucky = 0.84"
   ]
  },
  {
   "cell_type": "code",
   "execution_count": 28,
   "metadata": {},
   "outputs": [
    {
     "data": {
      "text/html": [
       "<table border=\"1\" class=\"dataframe\">\n",
       "    <thead>\n",
       "        <tr>\n",
       "            <th>State</th> <th>Proporiton of Nonwhite Vicitms</th> <th>Proportion of Nonwhite Population</th> <th>Difference</th>\n",
       "        </tr>\n",
       "    </thead>\n",
       "    <tbody>\n",
       "        <tr>\n",
       "            <td>Alaska        </td> <td>0.5                           </td> <td>0.4                              </td> <td>0.1       </td>\n",
       "        </tr>\n",
       "    </tbody>\n",
       "        <tr>\n",
       "            <td>Georgia       </td> <td>0.771382                      </td> <td>0.48                             </td> <td>0.291382  </td>\n",
       "        </tr>\n",
       "    </tbody>\n",
       "        <tr>\n",
       "            <td>Kentucky      </td> <td>0.339286                      </td> <td>0.16                             </td> <td>0.179286  </td>\n",
       "        </tr>\n",
       "    </tbody>\n",
       "        <tr>\n",
       "            <td>Maryland      </td> <td>0.804154                      </td> <td>0.47                             </td> <td>0.334154  </td>\n",
       "        </tr>\n",
       "    </tbody>\n",
       "        <tr>\n",
       "            <td>Nebraska      </td> <td>0.473684                      </td> <td>0.22                             </td> <td>0.253684  </td>\n",
       "        </tr>\n",
       "    </tbody>\n",
       "        <tr>\n",
       "            <td>North Dakota  </td> <td>0.266667                      </td> <td>0.15                             </td> <td>0.116667  </td>\n",
       "        </tr>\n",
       "    </tbody>\n",
       "        <tr>\n",
       "            <td>Ohio          </td> <td>0.628571                      </td> <td>0.22                             </td> <td>0.408571  </td>\n",
       "        </tr>\n",
       "    </tbody>\n",
       "        <tr>\n",
       "            <td>South Carolina</td> <td>0.636905                      </td> <td>0.35                             </td> <td>0.286905  </td>\n",
       "        </tr>\n",
       "    </tbody>\n",
       "        <tr>\n",
       "            <td>Tennessee     </td> <td>0.613527                      </td> <td>0.27                             </td> <td>0.343527  </td>\n",
       "        </tr>\n",
       "    </tbody>\n",
       "        <tr>\n",
       "            <td>Texas         </td> <td>0.348943                      </td> <td>0.57                             </td> <td>-0.221057 </td>\n",
       "        </tr>\n",
       "    </tbody>\n",
       "</table>"
      ],
      "text/plain": [
       "State          | Proporiton of Nonwhite Vicitms | Proportion of Nonwhite Population | Difference\n",
       "Alaska         | 0.5                            | 0.4                               | 0.1\n",
       "Georgia        | 0.771382                       | 0.48                              | 0.291382\n",
       "Kentucky       | 0.339286                       | 0.16                              | 0.179286\n",
       "Maryland       | 0.804154                       | 0.47                              | 0.334154\n",
       "Nebraska       | 0.473684                       | 0.22                              | 0.253684\n",
       "North Dakota   | 0.266667                       | 0.15                              | 0.116667\n",
       "Ohio           | 0.628571                       | 0.22                              | 0.408571\n",
       "South Carolina | 0.636905                       | 0.35                              | 0.286905\n",
       "Tennessee      | 0.613527                       | 0.27                              | 0.343527\n",
       "Texas          | 0.348943                       | 0.57                              | -0.221057"
      ]
     },
     "execution_count": 28,
     "metadata": {},
     "output_type": "execute_result"
    }
   ],
   "source": [
    "# This cell adds the proportion of the population that is not white to the table, and the difference between this and the proportion of non-white victims\n",
    "percent_white = np.array([south_carolina, north_dakota, ohio, texas, alaska, nebraska, georgia, tennessee, maryland, kentucky])\n",
    "table_real_percents = Table().with_columns('State', state_sample.column('State'), 'Proportion of Nonwhite Population',1 - percent_white)\n",
    "table_real_percents = proportion_table.join('State',table_real_percents)\n",
    "table_real_percents = table_real_percents.with_column('Difference', table_real_percents.column(1)-table_real_percents.column(2))\n",
    "table_real_percents"
   ]
  },
  {
   "cell_type": "markdown",
   "metadata": {},
   "source": [
    "We would expect that if the proportion of homicides with a non-white victim in each state is proportional to the proportion of the population that is not white in each state, then the difference between the proportion on nonwhite victims and the proportion of the population that is nonwhite should be 0. Some variation is expected due to chance, and my null hypothesis is that the nonzero differences are simply due to chance. Thus, my alternative hypothesis is that there is some factor other than chance that is causes there to be a nonzero difference."
   ]
  },
  {
   "cell_type": "code",
   "execution_count": 29,
   "metadata": {},
   "outputs": [],
   "source": [
    "# this cell creates a function, which runs a simulation and calculates the p value given a row of the above table\n",
    "def compute_p(row):\n",
    "    numSim = 1000\n",
    "    mean_arr = make_array()\n",
    "    for i in np.arange(numSim):\n",
    "        state_row = table_real_percents.take(row)\n",
    "        pop_nonwhite = float(state_row.column('Proportion of Nonwhite Population'))\n",
    "        sample_ = np.random.choice(2, 100, p = [1-pop_nonwhite, pop_nonwhite]) \n",
    "        # the sample is a population of 100 victims of a homicide assigned to be white or not white in proportion to population proportions\n",
    "        # 1 represents a person who is not white, and 0 represents a person who is white\n",
    "        samp_mean = np.mean(sample_) \n",
    "        # since the values are 1's and 0's, this represents the proporiton of the population that is not white\n",
    "        samp_diff = samp_mean - pop_nonwhite\n",
    "        mean_arr = np.append(mean_arr, samp_diff)\n",
    "    if 0 <= state_row.column('Difference'):\n",
    "        empirical_p = np.count_nonzero(mean_arr >= state_row.column('Difference'))/numSim\n",
    "    else:\n",
    "        empirical_p = np.count_nonzero(mean_arr <= state_row.column('Difference'))/numSim\n",
    "    return empirical_p"
   ]
  },
  {
   "cell_type": "code",
   "execution_count": 30,
   "metadata": {
    "scrolled": true
   },
   "outputs": [
    {
     "data": {
      "text/html": [
       "<table border=\"1\" class=\"dataframe\">\n",
       "    <thead>\n",
       "        <tr>\n",
       "            <th>State</th> <th>Proporiton of Nonwhite Vicitms</th> <th>Proportion of Nonwhite Population</th> <th>Difference</th> <th>P Values</th> <th>Statistical Significance</th>\n",
       "        </tr>\n",
       "    </thead>\n",
       "    <tbody>\n",
       "        <tr>\n",
       "            <td>Alaska        </td> <td>0.5                           </td> <td>0.4                              </td> <td>0.1       </td> <td>0.018   </td> <td>Statistically Significant       </td>\n",
       "        </tr>\n",
       "    </tbody>\n",
       "        <tr>\n",
       "            <td>Georgia       </td> <td>0.771382                      </td> <td>0.48                             </td> <td>0.291382  </td> <td>0       </td> <td>Highly Statistically Significant</td>\n",
       "        </tr>\n",
       "    </tbody>\n",
       "        <tr>\n",
       "            <td>Kentucky      </td> <td>0.339286                      </td> <td>0.16                             </td> <td>0.179286  </td> <td>0       </td> <td>Highly Statistically Significant</td>\n",
       "        </tr>\n",
       "    </tbody>\n",
       "        <tr>\n",
       "            <td>Maryland      </td> <td>0.804154                      </td> <td>0.47                             </td> <td>0.334154  </td> <td>0       </td> <td>Highly Statistically Significant</td>\n",
       "        </tr>\n",
       "    </tbody>\n",
       "        <tr>\n",
       "            <td>Nebraska      </td> <td>0.473684                      </td> <td>0.22                             </td> <td>0.253684  </td> <td>0       </td> <td>Highly Statistically Significant</td>\n",
       "        </tr>\n",
       "    </tbody>\n",
       "        <tr>\n",
       "            <td>North Dakota  </td> <td>0.266667                      </td> <td>0.15                             </td> <td>0.116667  </td> <td>0.002   </td> <td>Highly Statistically Significant</td>\n",
       "        </tr>\n",
       "    </tbody>\n",
       "        <tr>\n",
       "            <td>Ohio          </td> <td>0.628571                      </td> <td>0.22                             </td> <td>0.408571  </td> <td>0       </td> <td>Highly Statistically Significant</td>\n",
       "        </tr>\n",
       "    </tbody>\n",
       "        <tr>\n",
       "            <td>South Carolina</td> <td>0.636905                      </td> <td>0.35                             </td> <td>0.286905  </td> <td>0       </td> <td>Highly Statistically Significant</td>\n",
       "        </tr>\n",
       "    </tbody>\n",
       "        <tr>\n",
       "            <td>Tennessee     </td> <td>0.613527                      </td> <td>0.27                             </td> <td>0.343527  </td> <td>0       </td> <td>Highly Statistically Significant</td>\n",
       "        </tr>\n",
       "    </tbody>\n",
       "        <tr>\n",
       "            <td>Texas         </td> <td>0.348943                      </td> <td>0.57                             </td> <td>-0.221057 </td> <td>0       </td> <td>Highly Statistically Significant</td>\n",
       "        </tr>\n",
       "    </tbody>\n",
       "</table>"
      ],
      "text/plain": [
       "State          | Proporiton of Nonwhite Vicitms | Proportion of Nonwhite Population | Difference | P Values | Statistical Significance\n",
       "Alaska         | 0.5                            | 0.4                               | 0.1        | 0.018    | Statistically Significant\n",
       "Georgia        | 0.771382                       | 0.48                              | 0.291382   | 0        | Highly Statistically Significant\n",
       "Kentucky       | 0.339286                       | 0.16                              | 0.179286   | 0        | Highly Statistically Significant\n",
       "Maryland       | 0.804154                       | 0.47                              | 0.334154   | 0        | Highly Statistically Significant\n",
       "Nebraska       | 0.473684                       | 0.22                              | 0.253684   | 0        | Highly Statistically Significant\n",
       "North Dakota   | 0.266667                       | 0.15                              | 0.116667   | 0.002    | Highly Statistically Significant\n",
       "Ohio           | 0.628571                       | 0.22                              | 0.408571   | 0        | Highly Statistically Significant\n",
       "South Carolina | 0.636905                       | 0.35                              | 0.286905   | 0        | Highly Statistically Significant\n",
       "Tennessee      | 0.613527                       | 0.27                              | 0.343527   | 0        | Highly Statistically Significant\n",
       "Texas          | 0.348943                       | 0.57                              | -0.221057  | 0        | Highly Statistically Significant"
      ]
     },
     "execution_count": 30,
     "metadata": {},
     "output_type": "execute_result"
    }
   ],
   "source": [
    "# This cell classifies the p value of each state as statistically significant or not\n",
    "# <0.01 = highly statistically significant\n",
    "# 0.05> but >0.01 = statistically significant\n",
    "# otherwise, not statistically significant\n",
    "p_values = make_array()\n",
    "stat_sig = make_array()\n",
    "for i in np.arange(10):\n",
    "    p_val = compute_p(i)\n",
    "    p_values = np.append(p_values, p_val)\n",
    "    if p_val <= 0.01:\n",
    "        sig = 'Highly Statistically Significant'\n",
    "    elif 0.05 >= p_val >= 0.01:\n",
    "        sig = 'Statistically Significant'\n",
    "    else:\n",
    "        sig = 'Not Statistically Significant'\n",
    "    stat_sig = np.append(stat_sig, sig)\n",
    "table_real_percents = table_real_percents.with_column('P Values', p_values, 'Statistical Significance', stat_sig)\n",
    "table_real_percents"
   ]
  },
  {
   "cell_type": "markdown",
   "metadata": {},
   "source": [
    "If the empirical p value is below 0.01, it is highly statistically significant and if it is between 0.05 and 0.01 it is statistically significant. This means that there is evidence to reject the null hypothesis. In other words, it is likely that this variation is not due to chance alone. It appears as if I have evidence to reject the null hypothesis."
   ]
  },
  {
   "cell_type": "code",
   "execution_count": 31,
   "metadata": {},
   "outputs": [
    {
     "data": {
      "image/png": "[encoded data removed]",
      "text/plain": [
       "<matplotlib.figure.Figure at 0x11660fd30>"
      ]
     },
     "metadata": {},
     "output_type": "display_data"
    }
   ],
   "source": [
    "# this cell plots the differences in a bar graph, which makes it a bit easier to visualize\n",
    "table_real_percents.sort('Difference', descending = True).barh('State','Difference')"
   ]
  },
  {
   "cell_type": "markdown",
   "metadata": {},
   "source": [
    "Since all of the ten randomly selected states had statistically significant differences, nine of which are in the same direction, by my previously defined criteria, I have sufficient evidence to reject the null hypothesis. Thus, it is likely that there is some factor besides chance that causes the actual proportion of homicides with a non-white victim to be higher than expected."
   ]
  }
 ],
 "metadata": {
  "anaconda-cloud": {},
  "kernelspec": {
   "display_name": "Python 2",
   "language": "python",
   "name": "python2"
  },
  "language_info": {
   "codemirror_mode": {
    "name": "ipython",
    "version": 2
   },
   "file_extension": ".py",
   "mimetype": "text/x-python",
   "name": "python",
   "nbconvert_exporter": "python",
   "pygments_lexer": "ipython2",
   "version": "2.7.14"
  }
 },
 "nbformat": 4,
 "nbformat_minor": 1
}
